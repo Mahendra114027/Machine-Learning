{
 "cells": [
  {
   "cell_type": "code",
   "execution_count": 50,
   "metadata": {
    "collapsed": false
   },
   "outputs": [],
   "source": [
    "% matplotlib inline\n",
    "from sklearn.datasets import load_breast_cancer\n",
    "import numpy as np\n",
    "import matplotlib.pyplot as plt\n",
    "import seaborn\n",
    "from  sklearn.cross_validation import train_test_split\n",
    "from sklearn.neighbors import KNeighborsClassifier\n",
    "from figures import plot_2d_separator"
   ]
  },
  {
   "cell_type": "code",
   "execution_count": 3,
   "metadata": {
    "collapsed": true
   },
   "outputs": [],
   "source": [
    "bc=load_breast_cancer()"
   ]
  },
  {
   "cell_type": "code",
   "execution_count": 4,
   "metadata": {
    "collapsed": false
   },
   "outputs": [
    {
     "data": {
      "text/plain": [
       "['target_names', 'data', 'target', 'DESCR', 'feature_names']"
      ]
     },
     "execution_count": 4,
     "metadata": {},
     "output_type": "execute_result"
    }
   ],
   "source": [
    "bc.keys()\n"
   ]
  },
  {
   "cell_type": "code",
   "execution_count": 5,
   "metadata": {
    "collapsed": false
   },
   "outputs": [
    {
     "data": {
      "text/plain": [
       "array(['mean radius', 'mean texture', 'mean perimeter', 'mean area',\n",
       "       'mean smoothness', 'mean compactness', 'mean concavity',\n",
       "       'mean concave points', 'mean symmetry', 'mean fractal dimension',\n",
       "       'radius error', 'texture error', 'perimeter error', 'area error',\n",
       "       'smoothness error', 'compactness error', 'concavity error',\n",
       "       'concave points error', 'symmetry error', 'fractal dimension error',\n",
       "       'worst radius', 'worst texture', 'worst perimeter', 'worst area',\n",
       "       'worst smoothness', 'worst compactness', 'worst concavity',\n",
       "       'worst concave points', 'worst symmetry', 'worst fractal dimension'], \n",
       "      dtype='|S23')"
      ]
     },
     "execution_count": 5,
     "metadata": {},
     "output_type": "execute_result"
    }
   ],
   "source": [
    "bc.feature_names"
   ]
  },
  {
   "cell_type": "code",
   "execution_count": 6,
   "metadata": {
    "collapsed": false
   },
   "outputs": [
    {
     "data": {
      "text/plain": [
       "array([[  1.79900000e+01,   1.03800000e+01,   1.22800000e+02, ...,\n",
       "          2.65400000e-01,   4.60100000e-01,   1.18900000e-01],\n",
       "       [  2.05700000e+01,   1.77700000e+01,   1.32900000e+02, ...,\n",
       "          1.86000000e-01,   2.75000000e-01,   8.90200000e-02],\n",
       "       [  1.96900000e+01,   2.12500000e+01,   1.30000000e+02, ...,\n",
       "          2.43000000e-01,   3.61300000e-01,   8.75800000e-02],\n",
       "       ..., \n",
       "       [  1.66000000e+01,   2.80800000e+01,   1.08300000e+02, ...,\n",
       "          1.41800000e-01,   2.21800000e-01,   7.82000000e-02],\n",
       "       [  2.06000000e+01,   2.93300000e+01,   1.40100000e+02, ...,\n",
       "          2.65000000e-01,   4.08700000e-01,   1.24000000e-01],\n",
       "       [  7.76000000e+00,   2.45400000e+01,   4.79200000e+01, ...,\n",
       "          0.00000000e+00,   2.87100000e-01,   7.03900000e-02]])"
      ]
     },
     "execution_count": 6,
     "metadata": {},
     "output_type": "execute_result"
    }
   ],
   "source": [
    "bc.data"
   ]
  },
  {
   "cell_type": "code",
   "execution_count": 7,
   "metadata": {
    "collapsed": false
   },
   "outputs": [
    {
     "data": {
      "text/plain": [
       "array(['malignant', 'benign'], \n",
       "      dtype='|S9')"
      ]
     },
     "execution_count": 7,
     "metadata": {},
     "output_type": "execute_result"
    }
   ],
   "source": [
    "bc.target_names"
   ]
  },
  {
   "cell_type": "code",
   "execution_count": 8,
   "metadata": {
    "collapsed": false
   },
   "outputs": [
    {
     "data": {
      "text/plain": [
       "array([0, 0, 0, 0, 0, 0, 0, 0, 0, 0, 0, 0, 0, 0, 0, 0, 0, 0, 0, 1, 1, 1, 0,\n",
       "       0, 0, 0, 0, 0, 0, 0, 0, 0, 0, 0, 0, 0, 0, 1, 0, 0, 0, 0, 0, 0, 0, 0,\n",
       "       1, 0, 1, 1, 1, 1, 1, 0, 0, 1, 0, 0, 1, 1, 1, 1, 0, 1, 0, 0, 1, 1, 1,\n",
       "       1, 0, 1, 0, 0, 1, 0, 1, 0, 0, 1, 1, 1, 0, 0, 1, 0, 0, 0, 1, 1, 1, 0,\n",
       "       1, 1, 0, 0, 1, 1, 1, 0, 0, 1, 1, 1, 1, 0, 1, 1, 0, 1, 1, 1, 1, 1, 1,\n",
       "       1, 1, 0, 0, 0, 1, 0, 0, 1, 1, 1, 0, 0, 1, 0, 1, 0, 0, 1, 0, 0, 1, 1,\n",
       "       0, 1, 1, 0, 1, 1, 1, 1, 0, 1, 1, 1, 1, 1, 1, 1, 1, 1, 0, 1, 1, 1, 1,\n",
       "       0, 0, 1, 0, 1, 1, 0, 0, 1, 1, 0, 0, 1, 1, 1, 1, 0, 1, 1, 0, 0, 0, 1,\n",
       "       0, 1, 0, 1, 1, 1, 0, 1, 1, 0, 0, 1, 0, 0, 0, 0, 1, 0, 0, 0, 1, 0, 1,\n",
       "       0, 1, 1, 0, 1, 0, 0, 0, 0, 1, 1, 0, 0, 1, 1, 1, 0, 1, 1, 1, 1, 1, 0,\n",
       "       0, 1, 1, 0, 1, 1, 0, 0, 1, 0, 1, 1, 1, 1, 0, 1, 1, 1, 1, 1, 0, 1, 0,\n",
       "       0, 0, 0, 0, 0, 0, 0, 0, 0, 0, 0, 0, 0, 1, 1, 1, 1, 1, 1, 0, 1, 0, 1,\n",
       "       1, 0, 1, 1, 0, 1, 0, 0, 1, 1, 1, 1, 1, 1, 1, 1, 1, 1, 1, 1, 1, 0, 1,\n",
       "       1, 0, 1, 0, 1, 1, 1, 1, 1, 1, 1, 1, 1, 1, 1, 1, 1, 1, 0, 1, 1, 1, 0,\n",
       "       1, 0, 1, 1, 1, 1, 0, 0, 0, 1, 1, 1, 1, 0, 1, 0, 1, 0, 1, 1, 1, 0, 1,\n",
       "       1, 1, 1, 1, 1, 1, 0, 0, 0, 1, 1, 1, 1, 1, 1, 1, 1, 1, 1, 1, 0, 0, 1,\n",
       "       0, 0, 0, 1, 0, 0, 1, 1, 1, 1, 1, 0, 1, 1, 1, 1, 1, 0, 1, 1, 1, 0, 1,\n",
       "       1, 0, 0, 1, 1, 1, 1, 1, 1, 0, 1, 1, 1, 1, 1, 1, 1, 0, 1, 1, 1, 1, 1,\n",
       "       0, 1, 1, 0, 1, 1, 1, 1, 1, 1, 1, 1, 1, 1, 1, 1, 0, 1, 0, 0, 1, 0, 1,\n",
       "       1, 1, 1, 1, 0, 1, 1, 0, 1, 0, 1, 1, 0, 1, 0, 1, 1, 1, 1, 1, 1, 1, 1,\n",
       "       0, 0, 1, 1, 1, 1, 1, 1, 0, 1, 1, 1, 1, 1, 1, 1, 1, 1, 1, 0, 1, 1, 1,\n",
       "       1, 1, 1, 1, 0, 1, 0, 1, 1, 0, 1, 1, 1, 1, 1, 0, 0, 1, 0, 1, 0, 1, 1,\n",
       "       1, 1, 1, 0, 1, 1, 0, 1, 0, 1, 0, 0, 1, 1, 1, 0, 1, 1, 1, 1, 1, 1, 1,\n",
       "       1, 1, 1, 1, 0, 1, 0, 0, 1, 1, 1, 1, 1, 1, 1, 1, 1, 1, 1, 1, 1, 1, 1,\n",
       "       1, 1, 1, 1, 1, 1, 1, 1, 1, 1, 0, 0, 0, 0, 0, 0, 1])"
      ]
     },
     "execution_count": 8,
     "metadata": {},
     "output_type": "execute_result"
    }
   ],
   "source": [
    "bc.target"
   ]
  },
  {
   "cell_type": "code",
   "execution_count": 10,
   "metadata": {
    "collapsed": true
   },
   "outputs": [],
   "source": [
    "x=bc.data"
   ]
  },
  {
   "cell_type": "code",
   "execution_count": 11,
   "metadata": {
    "collapsed": false
   },
   "outputs": [
    {
     "data": {
      "text/plain": [
       "array([[  1.79900000e+01,   1.03800000e+01,   1.22800000e+02, ...,\n",
       "          2.65400000e-01,   4.60100000e-01,   1.18900000e-01],\n",
       "       [  2.05700000e+01,   1.77700000e+01,   1.32900000e+02, ...,\n",
       "          1.86000000e-01,   2.75000000e-01,   8.90200000e-02],\n",
       "       [  1.96900000e+01,   2.12500000e+01,   1.30000000e+02, ...,\n",
       "          2.43000000e-01,   3.61300000e-01,   8.75800000e-02],\n",
       "       ..., \n",
       "       [  1.66000000e+01,   2.80800000e+01,   1.08300000e+02, ...,\n",
       "          1.41800000e-01,   2.21800000e-01,   7.82000000e-02],\n",
       "       [  2.06000000e+01,   2.93300000e+01,   1.40100000e+02, ...,\n",
       "          2.65000000e-01,   4.08700000e-01,   1.24000000e-01],\n",
       "       [  7.76000000e+00,   2.45400000e+01,   4.79200000e+01, ...,\n",
       "          0.00000000e+00,   2.87100000e-01,   7.03900000e-02]])"
      ]
     },
     "execution_count": 11,
     "metadata": {},
     "output_type": "execute_result"
    }
   ],
   "source": [
    "x"
   ]
  },
  {
   "cell_type": "code",
   "execution_count": 16,
   "metadata": {
    "collapsed": true
   },
   "outputs": [],
   "source": [
    "X=x[:,0:2]"
   ]
  },
  {
   "cell_type": "code",
   "execution_count": 17,
   "metadata": {
    "collapsed": false
   },
   "outputs": [
    {
     "data": {
      "text/plain": [
       "array([[ 17.99,  10.38],\n",
       "       [ 20.57,  17.77],\n",
       "       [ 19.69,  21.25],\n",
       "       ..., \n",
       "       [ 16.6 ,  28.08],\n",
       "       [ 20.6 ,  29.33],\n",
       "       [  7.76,  24.54]])"
      ]
     },
     "execution_count": 17,
     "metadata": {},
     "output_type": "execute_result"
    }
   ],
   "source": [
    "X"
   ]
  },
  {
   "cell_type": "code",
   "execution_count": 18,
   "metadata": {
    "collapsed": true
   },
   "outputs": [],
   "source": [
    "Y=bc.target"
   ]
  },
  {
   "cell_type": "code",
   "execution_count": 20,
   "metadata": {
    "collapsed": false
   },
   "outputs": [
    {
     "data": {
      "text/plain": [
       "array([0, 0, 0, 0, 0, 0, 0, 0, 0, 0, 0, 0, 0, 0, 0, 0, 0, 0, 0, 1, 1, 1, 0,\n",
       "       0, 0, 0, 0, 0, 0, 0, 0, 0, 0, 0, 0, 0, 0, 1, 0, 0, 0, 0, 0, 0, 0, 0,\n",
       "       1, 0, 1, 1, 1, 1, 1, 0, 0, 1, 0, 0, 1, 1, 1, 1, 0, 1, 0, 0, 1, 1, 1,\n",
       "       1, 0, 1, 0, 0, 1, 0, 1, 0, 0, 1, 1, 1, 0, 0, 1, 0, 0, 0, 1, 1, 1, 0,\n",
       "       1, 1, 0, 0, 1, 1, 1, 0, 0, 1, 1, 1, 1, 0, 1, 1, 0, 1, 1, 1, 1, 1, 1,\n",
       "       1, 1, 0, 0, 0, 1, 0, 0, 1, 1, 1, 0, 0, 1, 0, 1, 0, 0, 1, 0, 0, 1, 1,\n",
       "       0, 1, 1, 0, 1, 1, 1, 1, 0, 1, 1, 1, 1, 1, 1, 1, 1, 1, 0, 1, 1, 1, 1,\n",
       "       0, 0, 1, 0, 1, 1, 0, 0, 1, 1, 0, 0, 1, 1, 1, 1, 0, 1, 1, 0, 0, 0, 1,\n",
       "       0, 1, 0, 1, 1, 1, 0, 1, 1, 0, 0, 1, 0, 0, 0, 0, 1, 0, 0, 0, 1, 0, 1,\n",
       "       0, 1, 1, 0, 1, 0, 0, 0, 0, 1, 1, 0, 0, 1, 1, 1, 0, 1, 1, 1, 1, 1, 0,\n",
       "       0, 1, 1, 0, 1, 1, 0, 0, 1, 0, 1, 1, 1, 1, 0, 1, 1, 1, 1, 1, 0, 1, 0,\n",
       "       0, 0, 0, 0, 0, 0, 0, 0, 0, 0, 0, 0, 0, 1, 1, 1, 1, 1, 1, 0, 1, 0, 1,\n",
       "       1, 0, 1, 1, 0, 1, 0, 0, 1, 1, 1, 1, 1, 1, 1, 1, 1, 1, 1, 1, 1, 0, 1,\n",
       "       1, 0, 1, 0, 1, 1, 1, 1, 1, 1, 1, 1, 1, 1, 1, 1, 1, 1, 0, 1, 1, 1, 0,\n",
       "       1, 0, 1, 1, 1, 1, 0, 0, 0, 1, 1, 1, 1, 0, 1, 0, 1, 0, 1, 1, 1, 0, 1,\n",
       "       1, 1, 1, 1, 1, 1, 0, 0, 0, 1, 1, 1, 1, 1, 1, 1, 1, 1, 1, 1, 0, 0, 1,\n",
       "       0, 0, 0, 1, 0, 0, 1, 1, 1, 1, 1, 0, 1, 1, 1, 1, 1, 0, 1, 1, 1, 0, 1,\n",
       "       1, 0, 0, 1, 1, 1, 1, 1, 1, 0, 1, 1, 1, 1, 1, 1, 1, 0, 1, 1, 1, 1, 1,\n",
       "       0, 1, 1, 0, 1, 1, 1, 1, 1, 1, 1, 1, 1, 1, 1, 1, 0, 1, 0, 0, 1, 0, 1,\n",
       "       1, 1, 1, 1, 0, 1, 1, 0, 1, 0, 1, 1, 0, 1, 0, 1, 1, 1, 1, 1, 1, 1, 1,\n",
       "       0, 0, 1, 1, 1, 1, 1, 1, 0, 1, 1, 1, 1, 1, 1, 1, 1, 1, 1, 0, 1, 1, 1,\n",
       "       1, 1, 1, 1, 0, 1, 0, 1, 1, 0, 1, 1, 1, 1, 1, 0, 0, 1, 0, 1, 0, 1, 1,\n",
       "       1, 1, 1, 0, 1, 1, 0, 1, 0, 1, 0, 0, 1, 1, 1, 0, 1, 1, 1, 1, 1, 1, 1,\n",
       "       1, 1, 1, 1, 0, 1, 0, 0, 1, 1, 1, 1, 1, 1, 1, 1, 1, 1, 1, 1, 1, 1, 1,\n",
       "       1, 1, 1, 1, 1, 1, 1, 1, 1, 1, 0, 0, 0, 0, 0, 0, 1])"
      ]
     },
     "execution_count": 20,
     "metadata": {},
     "output_type": "execute_result"
    }
   ],
   "source": [
    "Y"
   ]
  },
  {
   "cell_type": "code",
   "execution_count": 21,
   "metadata": {
    "collapsed": true
   },
   "outputs": [],
   "source": [
    "x_train,x_test,y_train,y_test=train_test_split(X,Y)"
   ]
  },
  {
   "cell_type": "code",
   "execution_count": 22,
   "metadata": {
    "collapsed": false
   },
   "outputs": [
    {
     "data": {
      "text/plain": [
       "array([[ 11.45 ,  20.97 ],\n",
       "       [  9.667,  18.49 ],\n",
       "       [ 16.3  ,  15.7  ],\n",
       "       [ 15.19 ,  13.21 ],\n",
       "       [ 23.29 ,  26.67 ],\n",
       "       [ 14.42 ,  16.54 ],\n",
       "       [ 12.49 ,  16.85 ],\n",
       "       [ 19.8  ,  21.56 ],\n",
       "       [ 16.46 ,  20.11 ],\n",
       "       [ 12.03 ,  17.93 ],\n",
       "       [ 12.85 ,  21.37 ],\n",
       "       [ 11.71 ,  15.45 ],\n",
       "       [ 12.1  ,  17.72 ],\n",
       "       [ 11.41 ,  14.92 ],\n",
       "       [ 12.91 ,  16.33 ],\n",
       "       [ 12.46 ,  12.83 ],\n",
       "       [ 10.91 ,  12.35 ],\n",
       "       [  9.742,  15.67 ],\n",
       "       [ 18.05 ,  16.15 ],\n",
       "       [ 14.92 ,  14.93 ],\n",
       "       [  9.738,  11.97 ],\n",
       "       [ 18.45 ,  21.91 ],\n",
       "       [ 13.9  ,  16.62 ],\n",
       "       [ 11.29 ,  13.04 ],\n",
       "       [ 13.45 ,  18.3  ],\n",
       "       [ 10.44 ,  15.46 ],\n",
       "       [ 12.65 ,  18.17 ],\n",
       "       [ 15.61 ,  19.38 ],\n",
       "       [ 10.32 ,  16.35 ],\n",
       "       [ 12.62 ,  17.15 ],\n",
       "       [ 12.45 ,  15.7  ],\n",
       "       [ 14.71 ,  21.59 ],\n",
       "       [ 13.87 ,  16.21 ],\n",
       "       [ 21.61 ,  22.28 ],\n",
       "       [ 21.1  ,  20.52 ],\n",
       "       [ 12.62 ,  23.97 ],\n",
       "       [ 21.37 ,  15.1  ],\n",
       "       [  9.876,  17.27 ],\n",
       "       [ 12.25 ,  22.44 ],\n",
       "       [ 12.89 ,  13.12 ],\n",
       "       [ 21.75 ,  20.99 ],\n",
       "       [ 14.74 ,  25.42 ],\n",
       "       [ 11.8  ,  17.26 ],\n",
       "       [ 12.31 ,  16.52 ],\n",
       "       [ 17.6  ,  23.33 ],\n",
       "       [ 13.71 ,  20.83 ],\n",
       "       [ 12.87 ,  16.21 ],\n",
       "       [ 13.27 ,  17.02 ],\n",
       "       [ 12.16 ,  18.03 ],\n",
       "       [ 18.77 ,  21.43 ],\n",
       "       [ 18.81 ,  19.98 ],\n",
       "       [ 12.76 ,  13.37 ],\n",
       "       [ 12.34 ,  22.22 ],\n",
       "       [ 13.11 ,  15.56 ],\n",
       "       [ 19.73 ,  19.82 ],\n",
       "       [ 12.67 ,  17.3  ],\n",
       "       [ 19.55 ,  23.21 ],\n",
       "       [ 10.03 ,  21.28 ],\n",
       "       [ 12.81 ,  13.06 ],\n",
       "       [ 17.08 ,  27.15 ],\n",
       "       [ 17.47 ,  24.68 ],\n",
       "       [ 12.36 ,  18.54 ],\n",
       "       [ 16.78 ,  18.8  ],\n",
       "       [ 12.2  ,  15.21 ],\n",
       "       [ 13.   ,  25.13 ],\n",
       "       [ 18.22 ,  18.7  ],\n",
       "       [ 11.34 ,  18.61 ],\n",
       "       [ 14.86 ,  23.21 ],\n",
       "       [ 16.84 ,  19.46 ],\n",
       "       [ 11.94 ,  20.76 ],\n",
       "       [ 13.85 ,  15.18 ],\n",
       "       [ 10.71 ,  20.39 ],\n",
       "       [ 11.68 ,  16.17 ],\n",
       "       [ 13.21 ,  28.06 ],\n",
       "       [ 17.27 ,  25.42 ],\n",
       "       [ 14.59 ,  22.68 ],\n",
       "       [ 13.64 ,  16.34 ],\n",
       "       [ 13.94 ,  13.17 ],\n",
       "       [ 17.05 ,  19.08 ],\n",
       "       [ 24.25 ,  20.2  ],\n",
       "       [ 20.34 ,  21.51 ],\n",
       "       [ 19.19 ,  15.94 ],\n",
       "       [  9.   ,  14.4  ],\n",
       "       [ 11.3  ,  18.19 ],\n",
       "       [ 13.8  ,  15.79 ],\n",
       "       [  9.504,  12.44 ],\n",
       "       [ 18.82 ,  21.97 ],\n",
       "       [ 12.76 ,  18.84 ],\n",
       "       [ 12.34 ,  26.86 ],\n",
       "       [ 13.3  ,  21.57 ],\n",
       "       [ 10.48 ,  14.98 ],\n",
       "       [ 11.41 ,  10.82 ],\n",
       "       [ 14.5  ,  10.89 ],\n",
       "       [ 11.43 ,  15.39 ],\n",
       "       [ 20.59 ,  21.24 ],\n",
       "       [ 12.72 ,  13.78 ],\n",
       "       [ 15.5  ,  21.08 ],\n",
       "       [ 13.9  ,  19.24 ],\n",
       "       [ 13.85 ,  19.6  ],\n",
       "       [ 14.8  ,  17.66 ],\n",
       "       [ 17.85 ,  13.23 ],\n",
       "       [ 13.05 ,  13.84 ],\n",
       "       [ 13.17 ,  21.81 ],\n",
       "       [  9.606,  16.84 ],\n",
       "       [ 20.44 ,  21.78 ],\n",
       "       [  8.671,  14.45 ],\n",
       "       [ 14.61 ,  15.69 ],\n",
       "       [ 16.24 ,  18.77 ],\n",
       "       [ 13.64 ,  15.6  ],\n",
       "       [ 16.35 ,  23.29 ],\n",
       "       [ 19.27 ,  26.47 ],\n",
       "       [ 13.05 ,  19.31 ],\n",
       "       [ 15.32 ,  17.27 ],\n",
       "       [ 15.12 ,  16.68 ],\n",
       "       [ 11.74 ,  14.02 ],\n",
       "       [ 19.44 ,  18.82 ],\n",
       "       [ 13.27 ,  14.76 ],\n",
       "       [ 15.46 ,  23.95 ],\n",
       "       [ 15.78 ,  17.89 ],\n",
       "       [ 11.46 ,  18.16 ],\n",
       "       [ 13.48 ,  20.82 ],\n",
       "       [ 12.87 ,  19.54 ],\n",
       "       [ 14.78 ,  23.94 ],\n",
       "       [ 12.86 ,  13.32 ],\n",
       "       [ 23.51 ,  24.27 ],\n",
       "       [ 18.03 ,  16.85 ],\n",
       "       [ 11.64 ,  18.33 ],\n",
       "       [ 20.13 ,  28.25 ],\n",
       "       [ 11.95 ,  14.96 ],\n",
       "       [ 11.06 ,  14.83 ],\n",
       "       [ 10.8  ,  21.98 ],\n",
       "       [ 15.08 ,  25.74 ],\n",
       "       [  9.904,  18.06 ],\n",
       "       [ 10.17 ,  14.88 ],\n",
       "       [ 22.27 ,  19.67 ],\n",
       "       [ 14.22 ,  23.12 ],\n",
       "       [ 10.86 ,  21.48 ],\n",
       "       [ 19.21 ,  18.57 ],\n",
       "       [ 18.46 ,  18.52 ],\n",
       "       [ 10.97 ,  17.2  ],\n",
       "       [ 15.46 ,  11.89 ],\n",
       "       [ 14.25 ,  21.72 ],\n",
       "       [ 12.99 ,  14.23 ],\n",
       "       [ 12.95 ,  16.02 ],\n",
       "       [ 12.18 ,  20.52 ],\n",
       "       [ 11.81 ,  17.39 ],\n",
       "       [ 19.89 ,  20.26 ],\n",
       "       [ 20.55 ,  20.86 ],\n",
       "       [ 11.57 ,  19.04 ],\n",
       "       [ 15.22 ,  30.62 ],\n",
       "       [ 15.73 ,  11.28 ],\n",
       "       [ 19.4  ,  23.5  ],\n",
       "       [ 14.58 ,  21.53 ],\n",
       "       [ 10.49 ,  18.61 ],\n",
       "       [ 11.04 ,  14.93 ],\n",
       "       [ 12.83 ,  22.33 ],\n",
       "       [ 25.73 ,  17.46 ],\n",
       "       [ 11.14 ,  14.07 ],\n",
       "       [ 20.26 ,  23.03 ],\n",
       "       [ 15.66 ,  23.2  ],\n",
       "       [ 11.61 ,  16.02 ],\n",
       "       [  9.683,  19.34 ],\n",
       "       [ 16.69 ,  20.2  ],\n",
       "       [ 13.61 ,  24.98 ],\n",
       "       [ 14.03 ,  21.25 ],\n",
       "       [ 14.44 ,  15.18 ],\n",
       "       [ 14.04 ,  15.98 ],\n",
       "       [ 13.66 ,  19.13 ],\n",
       "       [ 21.09 ,  26.57 ],\n",
       "       [ 20.6  ,  29.33 ],\n",
       "       [ 11.06 ,  17.12 ],\n",
       "       [ 14.53 ,  19.34 ],\n",
       "       [ 13.14 ,  20.74 ],\n",
       "       [ 15.85 ,  23.95 ],\n",
       "       [ 12.23 ,  19.56 ],\n",
       "       [ 14.26 ,  18.17 ],\n",
       "       [ 13.59 ,  21.84 ],\n",
       "       [ 11.34 ,  21.26 ],\n",
       "       [ 10.05 ,  17.53 ],\n",
       "       [ 13.2  ,  15.82 ],\n",
       "       [ 13.28 ,  20.28 ],\n",
       "       [ 14.26 ,  19.65 ],\n",
       "       [ 14.81 ,  14.7  ],\n",
       "       [ 10.49 ,  19.29 ],\n",
       "       [  9.405,  21.7  ],\n",
       "       [ 14.06 ,  17.18 ],\n",
       "       [ 13.16 ,  20.54 ],\n",
       "       [ 10.75 ,  14.97 ],\n",
       "       [ 16.25 ,  19.51 ],\n",
       "       [ 18.01 ,  20.56 ],\n",
       "       [  8.196,  16.84 ],\n",
       "       [ 10.29 ,  27.61 ],\n",
       "       [ 14.6  ,  23.29 ],\n",
       "       [  9.731,  15.34 ],\n",
       "       [ 12.21 ,  18.02 ],\n",
       "       [  9.268,  12.87 ],\n",
       "       [ 11.31 ,  19.04 ],\n",
       "       [ 17.95 ,  20.01 ],\n",
       "       [ 12.45 ,  16.41 ],\n",
       "       [ 15.   ,  15.51 ],\n",
       "       [ 14.86 ,  16.94 ],\n",
       "       [ 16.74 ,  21.59 ],\n",
       "       [ 20.47 ,  20.67 ],\n",
       "       [ 12.07 ,  13.44 ],\n",
       "       [ 12.47 ,  18.6  ],\n",
       "       [ 13.   ,  21.82 ],\n",
       "       [ 18.31 ,  18.58 ],\n",
       "       [ 11.43 ,  17.31 ],\n",
       "       [  8.597,  18.6  ],\n",
       "       [ 13.47 ,  14.06 ],\n",
       "       [ 10.26 ,  16.58 ],\n",
       "       [ 12.43 ,  17.   ],\n",
       "       [ 15.3  ,  25.27 ],\n",
       "       [ 19.18 ,  22.49 ],\n",
       "       [ 13.61 ,  24.69 ],\n",
       "       [  9.465,  21.01 ],\n",
       "       [ 15.37 ,  22.76 ],\n",
       "       [ 10.6  ,  18.95 ],\n",
       "       [ 16.65 ,  21.38 ],\n",
       "       [  9.295,  13.9  ],\n",
       "       [ 27.22 ,  21.87 ],\n",
       "       [ 11.75 ,  20.18 ],\n",
       "       [ 13.78 ,  15.79 ],\n",
       "       [ 16.07 ,  19.65 ],\n",
       "       [ 12.34 ,  14.95 ],\n",
       "       [ 11.52 ,  18.75 ],\n",
       "       [ 12.46 ,  24.04 ],\n",
       "       [ 13.01 ,  22.22 ],\n",
       "       [ 15.75 ,  19.22 ],\n",
       "       [ 12.05 ,  22.72 ],\n",
       "       [ 13.11 ,  22.54 ],\n",
       "       [ 16.6  ,  28.08 ],\n",
       "       [ 13.15 ,  15.34 ],\n",
       "       [ 11.08 ,  14.71 ],\n",
       "       [ 19.55 ,  28.77 ],\n",
       "       [ 17.54 ,  19.32 ],\n",
       "       [ 16.02 ,  23.24 ],\n",
       "       [ 18.61 ,  20.25 ],\n",
       "       [ 12.75 ,  16.7  ],\n",
       "       [  9.72 ,  18.22 ],\n",
       "       [ 20.73 ,  31.12 ],\n",
       "       [ 17.75 ,  28.03 ],\n",
       "       [ 14.45 ,  20.22 ],\n",
       "       [ 12.19 ,  13.29 ],\n",
       "       [ 13.54 ,  14.36 ],\n",
       "       [ 14.19 ,  23.81 ],\n",
       "       [ 10.94 ,  18.59 ],\n",
       "       [ 15.71 ,  13.93 ],\n",
       "       [ 23.27 ,  22.04 ],\n",
       "       [ 17.3  ,  17.08 ],\n",
       "       [ 12.22 ,  20.04 ],\n",
       "       [ 14.97 ,  16.95 ],\n",
       "       [ 11.63 ,  29.29 ],\n",
       "       [ 12.88 ,  18.22 ],\n",
       "       [ 14.53 ,  13.98 ],\n",
       "       [ 11.76 ,  21.6  ],\n",
       "       [ 11.54 ,  14.44 ],\n",
       "       [ 14.11 ,  12.88 ],\n",
       "       [ 14.58 ,  13.66 ],\n",
       "       [ 24.63 ,  21.6  ],\n",
       "       [ 11.94 ,  18.24 ],\n",
       "       [ 16.17 ,  16.07 ],\n",
       "       [  8.878,  15.49 ],\n",
       "       [ 14.4  ,  26.99 ],\n",
       "       [ 13.17 ,  18.66 ],\n",
       "       [ 11.2  ,  29.37 ],\n",
       "       [ 17.02 ,  23.98 ],\n",
       "       [ 12.89 ,  14.11 ],\n",
       "       [ 23.21 ,  26.97 ],\n",
       "       [ 11.51 ,  23.93 ],\n",
       "       [  7.729,  25.49 ],\n",
       "       [ 14.97 ,  19.76 ],\n",
       "       [  9.787,  19.94 ],\n",
       "       [ 11.27 ,  12.96 ],\n",
       "       [ 13.43 ,  19.63 ],\n",
       "       [  7.691,  25.44 ],\n",
       "       [ 27.42 ,  26.27 ],\n",
       "       [ 10.2  ,  17.48 ],\n",
       "       [ 13.37 ,  16.39 ],\n",
       "       [ 11.22 ,  33.81 ],\n",
       "       [ 14.34 ,  13.47 ],\n",
       "       [ 14.9  ,  22.53 ],\n",
       "       [ 17.68 ,  20.74 ],\n",
       "       [ 15.05 ,  19.07 ],\n",
       "       [ 10.96 ,  17.62 ],\n",
       "       [ 21.16 ,  23.04 ],\n",
       "       [ 15.49 ,  19.97 ],\n",
       "       [ 17.57 ,  15.05 ],\n",
       "       [ 13.4  ,  16.95 ],\n",
       "       [ 11.6  ,  24.49 ],\n",
       "       [  9.423,  27.88 ],\n",
       "       [  8.888,  14.64 ],\n",
       "       [ 19.53 ,  18.9  ],\n",
       "       [ 13.68 ,  16.33 ],\n",
       "       [ 19.02 ,  24.59 ],\n",
       "       [ 11.89 ,  18.35 ],\n",
       "       [ 13.4  ,  20.52 ],\n",
       "       [ 12.7  ,  12.17 ],\n",
       "       [ 12.47 ,  17.31 ],\n",
       "       [ 17.46 ,  39.28 ],\n",
       "       [ 12.77 ,  22.47 ],\n",
       "       [ 11.08 ,  18.83 ],\n",
       "       [ 11.13 ,  16.62 ],\n",
       "       [ 14.87 ,  20.21 ],\n",
       "       [ 13.03 ,  18.42 ],\n",
       "       [ 18.49 ,  17.52 ],\n",
       "       [ 11.99 ,  24.89 ],\n",
       "       [ 11.42 ,  20.38 ],\n",
       "       [ 13.21 ,  25.25 ],\n",
       "       [ 19.81 ,  22.15 ],\n",
       "       [  9.755,  28.2  ],\n",
       "       [ 14.87 ,  16.67 ],\n",
       "       [ 11.69 ,  24.44 ],\n",
       "       [ 12.3  ,  19.02 ],\n",
       "       [ 10.51 ,  20.19 ],\n",
       "       [ 18.25 ,  19.98 ],\n",
       "       [ 14.48 ,  21.46 ],\n",
       "       [ 12.39 ,  17.48 ],\n",
       "       [ 14.96 ,  19.1  ],\n",
       "       [ 12.36 ,  21.8  ],\n",
       "       [ 19.53 ,  32.47 ],\n",
       "       [ 12.89 ,  15.7  ],\n",
       "       [ 12.05 ,  14.63 ],\n",
       "       [ 20.58 ,  22.14 ],\n",
       "       [ 12.54 ,  16.32 ],\n",
       "       [ 16.16 ,  21.54 ],\n",
       "       [ 17.14 ,  16.4  ],\n",
       "       [ 12.34 ,  12.27 ],\n",
       "       [ 15.04 ,  16.74 ],\n",
       "       [ 17.35 ,  23.06 ],\n",
       "       [ 16.13 ,  17.88 ],\n",
       "       [ 25.22 ,  24.91 ],\n",
       "       [ 13.98 ,  19.62 ],\n",
       "       [ 12.78 ,  16.49 ],\n",
       "       [ 11.62 ,  18.18 ],\n",
       "       [ 11.89 ,  21.17 ],\n",
       "       [ 17.91 ,  21.02 ],\n",
       "       [ 13.88 ,  16.16 ],\n",
       "       [ 12.77 ,  29.43 ],\n",
       "       [ 13.71 ,  18.68 ],\n",
       "       [ 20.92 ,  25.09 ],\n",
       "       [ 12.88 ,  28.92 ],\n",
       "       [ 11.93 ,  10.91 ],\n",
       "       [ 13.49 ,  22.3  ],\n",
       "       [ 10.08 ,  15.11 ],\n",
       "       [ 11.22 ,  19.86 ],\n",
       "       [ 20.51 ,  27.81 ],\n",
       "       [ 13.24 ,  20.13 ],\n",
       "       [ 12.54 ,  18.07 ],\n",
       "       [ 11.36 ,  17.57 ],\n",
       "       [ 14.02 ,  15.66 ],\n",
       "       [ 13.74 ,  17.91 ],\n",
       "       [ 13.73 ,  22.61 ],\n",
       "       [ 13.46 ,  18.75 ],\n",
       "       [ 19.07 ,  24.81 ],\n",
       "       [ 17.2  ,  24.52 ],\n",
       "       [ 16.5  ,  18.29 ],\n",
       "       [ 11.47 ,  16.03 ],\n",
       "       [ 20.31 ,  27.06 ],\n",
       "       [ 17.93 ,  24.48 ],\n",
       "       [ 15.06 ,  19.83 ],\n",
       "       [  8.734,  16.84 ],\n",
       "       [  9.397,  21.68 ],\n",
       "       [ 12.56 ,  19.07 ],\n",
       "       [ 12.32 ,  12.39 ],\n",
       "       [ 12.46 ,  19.89 ],\n",
       "       [ 14.95 ,  17.57 ],\n",
       "       [ 13.46 ,  28.21 ],\n",
       "       [ 13.38 ,  30.72 ],\n",
       "       [ 18.65 ,  17.6  ],\n",
       "       [ 11.9  ,  14.65 ],\n",
       "       [ 17.29 ,  22.13 ],\n",
       "       [ 19.1  ,  26.29 ],\n",
       "       [ 14.64 ,  15.24 ],\n",
       "       [ 19.68 ,  21.68 ],\n",
       "       [ 19.45 ,  19.33 ],\n",
       "       [ 12.25 ,  17.94 ],\n",
       "       [ 12.94 ,  16.17 ],\n",
       "       [ 13.34 ,  15.86 ],\n",
       "       [ 17.99 ,  20.66 ],\n",
       "       [ 10.48 ,  19.86 ],\n",
       "       [ 11.6  ,  12.84 ],\n",
       "       [ 11.84 ,  18.94 ],\n",
       "       [ 11.7  ,  19.11 ],\n",
       "       [ 11.89 ,  17.36 ],\n",
       "       [ 11.74 ,  14.69 ],\n",
       "       [  8.598,  20.98 ],\n",
       "       [ 11.26 ,  19.83 ],\n",
       "       [ 17.99 ,  10.38 ],\n",
       "       [ 12.   ,  28.23 ],\n",
       "       [  8.571,  13.1  ],\n",
       "       [ 21.71 ,  17.25 ],\n",
       "       [ 11.66 ,  17.07 ],\n",
       "       [ 13.77 ,  13.27 ],\n",
       "       [ 12.68 ,  23.84 ],\n",
       "       [ 11.32 ,  27.08 ],\n",
       "       [ 20.29 ,  14.34 ],\n",
       "       [ 12.18 ,  14.08 ],\n",
       "       [ 10.18 ,  17.53 ],\n",
       "       [ 20.57 ,  17.77 ],\n",
       "       [ 20.09 ,  23.86 ],\n",
       "       [ 12.06 ,  18.9  ],\n",
       "       [ 11.85 ,  17.46 ],\n",
       "       [ 11.37 ,  18.89 ],\n",
       "       [ 11.71 ,  16.67 ],\n",
       "       [ 12.42 ,  15.04 ],\n",
       "       [ 17.42 ,  25.56 ],\n",
       "       [ 13.56 ,  13.9  ],\n",
       "       [ 17.19 ,  22.07 ],\n",
       "       [ 13.2  ,  17.43 ],\n",
       "       [ 13.59 ,  17.84 ],\n",
       "       [ 13.69 ,  16.07 ],\n",
       "       [ 15.27 ,  12.91 ],\n",
       "       [ 19.69 ,  21.25 ],\n",
       "       [ 13.53 ,  10.94 ],\n",
       "       [ 14.95 ,  18.77 ],\n",
       "       [  9.333,  21.94 ],\n",
       "       [ 13.85 ,  17.21 ],\n",
       "       [ 11.06 ,  14.96 ],\n",
       "       [ 14.62 ,  24.02 ],\n",
       "       [ 10.65 ,  25.22 ],\n",
       "       [ 10.88 ,  15.62 ],\n",
       "       [ 14.64 ,  16.85 ],\n",
       "       [ 11.93 ,  21.53 ],\n",
       "       [ 12.27 ,  29.97 ],\n",
       "       [  9.668,  18.1  ]])"
      ]
     },
     "execution_count": 22,
     "metadata": {},
     "output_type": "execute_result"
    }
   ],
   "source": [
    "x_train\n"
   ]
  },
  {
   "cell_type": "code",
   "execution_count": 23,
   "metadata": {
    "collapsed": false
   },
   "outputs": [
    {
     "data": {
      "text/plain": [
       "array([[ 20.18 ,  23.97 ],\n",
       "       [ 11.26 ,  19.96 ],\n",
       "       [ 13.28 ,  13.72 ],\n",
       "       [ 14.54 ,  27.54 ],\n",
       "       [  9.847,  15.68 ],\n",
       "       [ 11.76 ,  18.14 ],\n",
       "       [ 22.01 ,  21.9  ],\n",
       "       [ 13.7  ,  17.64 ],\n",
       "       [ 16.13 ,  20.68 ],\n",
       "       [ 11.28 ,  13.39 ],\n",
       "       [ 15.78 ,  22.91 ],\n",
       "       [ 12.77 ,  21.41 ],\n",
       "       [  9.742,  19.12 ],\n",
       "       [ 11.75 ,  17.56 ],\n",
       "       [ 12.04 ,  28.14 ],\n",
       "       [ 11.49 ,  14.59 ],\n",
       "       [ 11.71 ,  17.19 ],\n",
       "       [ 10.51 ,  23.09 ],\n",
       "       [ 19.   ,  18.91 ],\n",
       "       [ 14.69 ,  13.98 ],\n",
       "       [ 11.8  ,  16.58 ],\n",
       "       [ 19.79 ,  25.12 ],\n",
       "       [ 14.25 ,  22.15 ],\n",
       "       [ 16.14 ,  14.86 ],\n",
       "       [ 12.83 ,  15.73 ],\n",
       "       [ 15.1  ,  16.39 ],\n",
       "       [ 13.77 ,  22.29 ],\n",
       "       [ 11.87 ,  21.54 ],\n",
       "       [ 10.66 ,  15.15 ],\n",
       "       [ 14.47 ,  24.99 ],\n",
       "       [ 16.27 ,  20.71 ],\n",
       "       [ 16.26 ,  21.88 ],\n",
       "       [ 10.25 ,  16.18 ],\n",
       "       [ 16.11 ,  18.05 ],\n",
       "       [ 13.75 ,  23.77 ],\n",
       "       [ 20.48 ,  21.46 ],\n",
       "       [ 10.8  ,   9.71 ],\n",
       "       [ 19.59 ,  18.15 ],\n",
       "       [ 13.87 ,  20.7  ],\n",
       "       [ 13.65 ,  13.16 ],\n",
       "       [  9.876,  19.4  ],\n",
       "       [ 10.95 ,  21.35 ],\n",
       "       [ 12.9  ,  15.92 ],\n",
       "       [ 11.27 ,  15.5  ],\n",
       "       [ 18.22 ,  18.87 ],\n",
       "       [ 12.72 ,  17.67 ],\n",
       "       [ 11.25 ,  14.78 ],\n",
       "       [ 11.16 ,  21.41 ],\n",
       "       [ 12.86 ,  18.   ],\n",
       "       [ 14.76 ,  14.74 ],\n",
       "       [ 11.6  ,  18.36 ],\n",
       "       [ 13.96 ,  17.05 ],\n",
       "       [ 15.13 ,  29.81 ],\n",
       "       [ 12.8  ,  17.46 ],\n",
       "       [ 12.4  ,  17.68 ],\n",
       "       [  8.618,  11.79 ],\n",
       "       [ 10.26 ,  14.71 ],\n",
       "       [  9.042,  18.9  ],\n",
       "       [ 10.82 ,  24.21 ],\n",
       "       [  9.777,  16.99 ],\n",
       "       [ 13.44 ,  21.58 ],\n",
       "       [ 11.67 ,  20.02 ],\n",
       "       [ 20.18 ,  19.54 ],\n",
       "       [ 13.   ,  20.78 ],\n",
       "       [ 20.64 ,  17.35 ],\n",
       "       [ 11.04 ,  16.83 ],\n",
       "       [ 12.06 ,  12.74 ],\n",
       "       [ 12.18 ,  17.84 ],\n",
       "       [ 15.7  ,  20.31 ],\n",
       "       [ 12.   ,  15.65 ],\n",
       "       [ 19.4  ,  18.18 ],\n",
       "       [ 17.06 ,  21.   ],\n",
       "       [ 19.59 ,  25.   ],\n",
       "       [ 13.51 ,  18.89 ],\n",
       "       [ 18.94 ,  21.31 ],\n",
       "       [ 14.42 ,  19.77 ],\n",
       "       [ 14.22 ,  27.85 ],\n",
       "       [ 19.16 ,  26.6  ],\n",
       "       [ 14.99 ,  22.11 ],\n",
       "       [ 10.57 ,  20.22 ],\n",
       "       [ 13.82 ,  24.49 ],\n",
       "       [  9.029,  17.33 ],\n",
       "       [ 14.29 ,  16.82 ],\n",
       "       [ 18.31 ,  20.58 ],\n",
       "       [  6.981,  13.43 ],\n",
       "       [ 13.81 ,  23.75 ],\n",
       "       [ 12.96 ,  18.29 ],\n",
       "       [ 28.11 ,  18.47 ],\n",
       "       [ 13.66 ,  15.15 ],\n",
       "       [ 14.99 ,  25.2  ],\n",
       "       [  9.676,  13.14 ],\n",
       "       [ 11.33 ,  14.16 ],\n",
       "       [ 18.63 ,  25.11 ],\n",
       "       [ 16.03 ,  15.51 ],\n",
       "       [ 13.17 ,  18.22 ],\n",
       "       [ 15.75 ,  20.25 ],\n",
       "       [ 11.13 ,  22.44 ],\n",
       "       [ 10.16 ,  19.59 ],\n",
       "       [ 13.62 ,  23.23 ],\n",
       "       [ 17.01 ,  20.26 ],\n",
       "       [ 14.05 ,  27.15 ],\n",
       "       [  9.436,  18.32 ],\n",
       "       [  7.76 ,  24.54 ],\n",
       "       [  9.567,  15.91 ],\n",
       "       [  8.95 ,  15.76 ],\n",
       "       [ 12.21 ,  14.09 ],\n",
       "       [ 12.3  ,  15.9  ],\n",
       "       [ 20.94 ,  23.56 ],\n",
       "       [  8.726,  15.83 ],\n",
       "       [ 11.52 ,  14.93 ],\n",
       "       [ 11.5  ,  18.45 ],\n",
       "       [ 20.16 ,  19.66 ],\n",
       "       [ 13.5  ,  12.71 ],\n",
       "       [ 11.84 ,  18.7  ],\n",
       "       [ 23.09 ,  19.83 ],\n",
       "       [ 18.66 ,  17.12 ],\n",
       "       [ 13.05 ,  18.59 ],\n",
       "       [ 15.28 ,  22.41 ],\n",
       "       [ 11.15 ,  13.08 ],\n",
       "       [ 15.53 ,  33.56 ],\n",
       "       [ 15.1  ,  22.02 ],\n",
       "       [ 19.17 ,  24.8  ],\n",
       "       [  8.219,  20.7  ],\n",
       "       [ 12.27 ,  17.92 ],\n",
       "       [ 14.68 ,  20.13 ],\n",
       "       [ 11.54 ,  10.72 ],\n",
       "       [ 10.9  ,  12.96 ],\n",
       "       [ 15.46 ,  19.48 ],\n",
       "       [ 14.27 ,  22.55 ],\n",
       "       [ 10.57 ,  18.32 ],\n",
       "       [ 20.2  ,  26.83 ],\n",
       "       [ 10.26 ,  12.22 ],\n",
       "       [ 13.86 ,  16.93 ],\n",
       "       [ 12.98 ,  19.35 ],\n",
       "       [  9.173,  13.86 ],\n",
       "       [ 12.63 ,  20.76 ],\n",
       "       [ 14.41 ,  19.73 ],\n",
       "       [ 13.08 ,  15.71 ],\n",
       "       [ 14.2  ,  20.53 ],\n",
       "       [ 21.56 ,  22.39 ],\n",
       "       [ 12.58 ,  18.4  ],\n",
       "       [ 15.34 ,  14.26 ],\n",
       "       [ 18.08 ,  21.84 ]])"
      ]
     },
     "execution_count": 23,
     "metadata": {},
     "output_type": "execute_result"
    }
   ],
   "source": [
    "x_test"
   ]
  },
  {
   "cell_type": "code",
   "execution_count": 65,
   "metadata": {
    "collapsed": true
   },
   "outputs": [],
   "source": [
    "classifier=KNeighborsClassifier(n_neighbors=4)"
   ]
  },
  {
   "cell_type": "code",
   "execution_count": 66,
   "metadata": {
    "collapsed": false
   },
   "outputs": [],
   "source": [
    "model=classifier.fit(x_train,y_train)"
   ]
  },
  {
   "cell_type": "code",
   "execution_count": 67,
   "metadata": {
    "collapsed": false
   },
   "outputs": [
    {
     "data": {
      "text/plain": [
       "KNeighborsClassifier(algorithm='auto', leaf_size=30, metric='minkowski',\n",
       "           metric_params=None, n_jobs=1, n_neighbors=4, p=2,\n",
       "           weights='uniform')"
      ]
     },
     "execution_count": 67,
     "metadata": {},
     "output_type": "execute_result"
    }
   ],
   "source": [
    "model"
   ]
  },
  {
   "cell_type": "code",
   "execution_count": 68,
   "metadata": {
    "collapsed": false
   },
   "outputs": [
    {
     "data": {
      "text/plain": [
       "0.8601398601398601"
      ]
     },
     "execution_count": 68,
     "metadata": {},
     "output_type": "execute_result"
    }
   ],
   "source": [
    "model.score(x_test,y_test)"
   ]
  },
  {
   "cell_type": "code",
   "execution_count": 64,
   "metadata": {
    "collapsed": false
   },
   "outputs": [
    {
     "name": "stdout",
     "output_type": "stream",
     "text": [
      "<matplotlib.collections.PathCollection object at 0x7f2fb5e848d0>\n"
     ]
    },
    {
     "data": {
      "image/png": "[encoded data removed]",
      "text/plain": [
       "<matplotlib.figure.Figure at 0x7f2fb5f98b90>"
      ]
     },
     "metadata": {},
     "output_type": "display_data"
    }
   ],
   "source": [
    "print(plt.scatter(x_train[:,0],x_train[:,1],c=y_train))\n",
    "plt.xlabel(\"mean_radius\")\n",
    "plt.ylabel(\"mean_texture\")\n",
    "plot_2d_separator.plot_2d_separator(model,X)"
   ]
  },
  {
   "cell_type": "code",
   "execution_count": null,
   "metadata": {
    "collapsed": false
   },
   "outputs": [],
   "source": []
  },
  {
   "cell_type": "code",
   "execution_count": 40,
   "metadata": {
    "collapsed": false
   },
   "outputs": [
    {
     "data": {
      "text/plain": [
       "<module 'matplotlib.pyplot' from '/home/veereshhr/anaconda2/lib/python2.7/site-packages/matplotlib/pyplot.pyc'>"
      ]
     },
     "execution_count": 40,
     "metadata": {},
     "output_type": "execute_result"
    }
   ],
   "source": []
  },
  {
   "cell_type": "code",
   "execution_count": null,
   "metadata": {
    "collapsed": true
   },
   "outputs": [],
   "source": []
  }
 ],
 "metadata": {
  "kernelspec": {
   "display_name": "Python [Root]",
   "language": "python",
   "name": "Python [Root]"
  },
  "language_info": {
   "codemirror_mode": {
    "name": "ipython",
    "version": 2
   },
   "file_extension": ".py",
   "mimetype": "text/x-python",
   "name": "python",
   "nbconvert_exporter": "python",
   "pygments_lexer": "ipython2",
   "version": "2.7.12"
  }
 },
 "nbformat": 4,
 "nbformat_minor": 0
}
