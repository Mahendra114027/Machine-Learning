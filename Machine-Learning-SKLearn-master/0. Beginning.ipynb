{
 "cells": [
  {
   "cell_type": "markdown",
   "metadata": {
    "collapsed": true
   },
   "source": [
    "## Machine Learning in Python: An Introduction to Scikit-Learn\n"
   ]
  },
  {
   "cell_type": "markdown",
   "metadata": {},
   "source": [
    "### What this workshop is about?"
   ]
  },
  {
   "cell_type": "markdown",
   "metadata": {},
   "source": [
    "* Introduction to the basics of Machine Learning, and some tips and tricks\n",
    "* Introduction to scikit-learn, utilizing it for your machine learning needs"
   ]
  },
  {
   "cell_type": "markdown",
   "metadata": {},
   "source": [
    "### Today's Workflow\n",
    "\n",
    "#### Setup and Introduction\n",
    "* Getting your machines to a common working baseline.\n",
    "\n",
    "#### A Gentle Introduction to Machine Learning and Scikit-Learn\n",
    "* What is Machine Learning?\n",
    "* Core Terminologies \n",
    "* Supervised Learning\n",
    "* Unsupervised Learning\n",
    "* Evaluation of Models\n",
    "* How to choose the right model for your dataset\n",
    "\n",
    "#### Going deeper with Supervised Learning\n",
    "* Classification\n",
    "* Regression\n",
    "\n",
    "#### Going deeper with Unsupervised Learning\n",
    "* Clustering\n",
    "* Dimensionality Reduction\n",
    "\n",
    "#### Model Validation\n",
    "* Validation and Cross Validation"
   ]
  },
  {
   "cell_type": "code",
   "execution_count": null,
   "metadata": {
    "collapsed": true
   },
   "outputs": [],
   "source": []
  }
 ],
 "metadata": {
  "anaconda-cloud": {},
  "kernelspec": {
   "display_name": "Python [Root]",
   "language": "python",
   "name": "Python [Root]"
  },
  "language_info": {
   "codemirror_mode": {
    "name": "ipython",
    "version": 2
   },
   "file_extension": ".py",
   "mimetype": "text/x-python",
   "name": "python",
   "nbconvert_exporter": "python",
   "pygments_lexer": "ipython2",
   "version": "2.7.12"
  }
 },
 "nbformat": 4,
 "nbformat_minor": 0
}
