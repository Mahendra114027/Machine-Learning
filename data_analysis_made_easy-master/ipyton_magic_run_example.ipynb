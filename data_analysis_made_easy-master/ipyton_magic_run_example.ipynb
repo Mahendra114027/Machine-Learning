{
 "cells": [
  {
   "cell_type": "code",
   "execution_count": 8,
   "metadata": {
    "collapsed": false
   },
   "outputs": [
    {
     "name": "stdout",
     "output_type": "stream",
     "text": [
      "ind_Country_en_csv_v2.csv\n",
      "is.air.psgr_Indicator_en_csv_v2.csv\n",
      "Metadata_Indicator_is.air.psgr_Indicator_en_csv_v2.csv\n",
      "distirct_railfaill_1951_2000.csv\n",
      "Metadata_Country_is.air.psgr_Indicator_en_csv_v2.csv\n"
     ]
    }
   ],
   "source": [
    "%run myprogram.py"
   ]
  },
  {
   "cell_type": "code",
   "execution_count": 9,
   "metadata": {
    "collapsed": false
   },
   "outputs": [
    {
     "data": {
      "text/plain": [
       "['myprogram.py',\n",
       " '.git',\n",
       " 'ind_Country_en_csv_v2.csv',\n",
       " 'is.air.psgr_Indicator_en_csv_v2.zip',\n",
       " 'kar_graph.jpeg',\n",
       " '.ipynb_checkpoints',\n",
       " 'GLB.Ts+dSST.txt',\n",
       " 'is.air.psgr_Indicator_en_csv_v2.csv',\n",
       " 'collection_examples.ipynb',\n",
       " '.gitignore',\n",
       " 'Metadata_Indicator_is.air.psgr_Indicator_en_csv_v2.csv',\n",
       " 'distirct_railfaill_1951_2000.csv',\n",
       " 'Untitled.ipynb',\n",
       " 'readme.md',\n",
       " 'Metadata_Country_is.air.psgr_Indicator_en_csv_v2.csv',\n",
       " 'bangpypers_data_analysis_made_easy.ipynb',\n",
       " 'DDW-0000C-13.xls']"
      ]
     },
     "execution_count": 9,
     "metadata": {},
     "output_type": "execute_result"
    }
   ],
   "source": [
    "files"
   ]
  },
  {
   "cell_type": "code",
   "execution_count": 11,
   "metadata": {
    "collapsed": false
   },
   "outputs": [],
   "source": [
    "mylist = !ls"
   ]
  },
  {
   "cell_type": "code",
   "execution_count": 12,
   "metadata": {
    "collapsed": false
   },
   "outputs": [
    {
     "data": {
      "text/plain": [
       "['bangpypers_data_analysis_made_easy.ipynb',\n",
       " 'collection_examples.ipynb',\n",
       " 'DDW-0000C-13.xls',\n",
       " 'distirct_railfaill_1951_2000.csv',\n",
       " 'GLB.Ts+dSST.txt',\n",
       " 'ind_Country_en_csv_v2.csv',\n",
       " 'ipyton_magic_run_example.ipynb',\n",
       " 'is.air.psgr_Indicator_en_csv_v2.csv',\n",
       " 'is.air.psgr_Indicator_en_csv_v2.zip',\n",
       " 'kar_graph.jpeg',\n",
       " 'Metadata_Country_is.air.psgr_Indicator_en_csv_v2.csv',\n",
       " 'Metadata_Indicator_is.air.psgr_Indicator_en_csv_v2.csv',\n",
       " 'myprogram.py',\n",
       " 'readme.md']"
      ]
     },
     "execution_count": 12,
     "metadata": {},
     "output_type": "execute_result"
    }
   ],
   "source": [
    "mylist"
   ]
  },
  {
   "cell_type": "code",
   "execution_count": 14,
   "metadata": {
    "collapsed": false
   },
   "outputs": [],
   "source": [
    "!head -5 distirct_railfaill_1951_2000.csv"
   ]
  },
  {
   "cell_type": "code",
   "execution_count": null,
   "metadata": {
    "collapsed": true
   },
   "outputs": [],
   "source": []
  }
 ],
 "metadata": {
  "kernelspec": {
   "display_name": "Python [Root]",
   "language": "python",
   "name": "Python [Root]"
  },
  "language_info": {
   "codemirror_mode": {
    "name": "ipython",
    "version": 2
   },
   "file_extension": ".py",
   "mimetype": "text/x-python",
   "name": "python",
   "nbconvert_exporter": "python",
   "pygments_lexer": "ipython2",
   "version": "2.7.12"
  }
 },
 "nbformat": 4,
 "nbformat_minor": 0
}
