{
 "cells": [
  {
   "cell_type": "markdown",
   "metadata": {},
   "source": [
    "# Python Collections"
   ]
  },
  {
   "cell_type": "markdown",
   "metadata": {},
   "source": [
    "### Following are the container datatypes\n",
    "\n",
    "* namedtupple\n",
    "* deque\n",
    "* Counter\n",
    "* OrderedDict\n",
    "* DefaultDict"
   ]
  },
  {
   "cell_type": "markdown",
   "metadata": {},
   "source": [
    "### namedtupple\n",
    "\n",
    "* <b>Returns a new tuple subclass named typename. \n",
    "* The new subclass is used to create tuple-like objects that have fields accessible by attribute lookup as well as being indexable and iterable.\n",
    "* Instances of the subclass also have a helpful docstring (with typename and field_names) and a helpful __repr__() method which lists the tuple contents in a name=value format.</b>\n",
    "\n",
    "#### namedtuple(typename, field_names, verbose=False, rename=False)\n",
    "\n",
    "|Method|Description|\n",
    "|------|-----------|\n",
    "|<b>_asdict()</b>|Return a new OrderedDict which maps field names to their corresponding values.|\n",
    "|<b>_make(iterable)</b>|Class method that makes a new instance from an existing sequence or iterable.|\n",
    "|<b>_fields()</b>|Tuple of strings listing the field names.Useful for introspection and for creating new named tuple types from existing named tuples.|\n",
    "|<b>_replace(kwargs)</b>|Return a new instance of the named tuple replacing specified fields with new values|"
   ]
  },
  {
   "cell_type": "code",
   "execution_count": 1,
   "metadata": {
    "collapsed": true
   },
   "outputs": [],
   "source": [
    "from collections import namedtuple"
   ]
  },
  {
   "cell_type": "code",
   "execution_count": 2,
   "metadata": {
    "collapsed": false
   },
   "outputs": [],
   "source": [
    "Rectangle = namedtuple('Rectangle',['width','height'],verbose=False)"
   ]
  },
  {
   "cell_type": "code",
   "execution_count": 3,
   "metadata": {
    "collapsed": false
   },
   "outputs": [
    {
     "name": "stdout",
     "output_type": "stream",
     "text": [
      "<type 'type'>\n"
     ]
    }
   ],
   "source": [
    "print type(Rectangle)"
   ]
  },
  {
   "cell_type": "code",
   "execution_count": 4,
   "metadata": {
    "collapsed": false
   },
   "outputs": [
    {
     "name": "stdout",
     "output_type": "stream",
     "text": [
      "<class '__main__.Rectangle'>\n"
     ]
    }
   ],
   "source": [
    "r1 = Rectangle(10,20)\n",
    "print type(r1)"
   ]
  },
  {
   "cell_type": "code",
   "execution_count": 5,
   "metadata": {
    "collapsed": false
   },
   "outputs": [
    {
     "name": "stdout",
     "output_type": "stream",
     "text": [
      "Rectangle(width=10, height=20)\n",
      "OrderedDict([('width', 10), ('height', 20)])\n",
      "[Rectangle(width=10, height=20), Rectangle(width=1, height=2), Rectangle(width=5, height=8)]\n",
      "('width', 'height')\n",
      "Rectangle(width=12, height=20)\n",
      "20\n"
     ]
    }
   ],
   "source": [
    "print r1\n",
    "print r1._asdict()\n",
    "rect = [(10,20),(1,2),(5,8)]\n",
    "print map(Rectangle._make,rect)\n",
    "print r1._fields\n",
    "print r1._replace(width=12)\n",
    "print getattr(r1,'height')"
   ]
  },
  {
   "cell_type": "code",
   "execution_count": 6,
   "metadata": {
    "collapsed": false
   },
   "outputs": [
    {
     "name": "stdout",
     "output_type": "stream",
     "text": [
      "countryRecord(country_name='Afghanistan', country_code='93', country_iso_code='AF / AFG')\n",
      "Afghanistan AF / AFG\n",
      "countryRecord(country_name='Albania', country_code='355', country_iso_code='AL / ALB')\n",
      "Albania AL / ALB\n",
      "countryRecord(country_name='Algeria', country_code='213', country_iso_code='DZ / DZA')\n",
      "Algeria DZ / DZA\n"
     ]
    }
   ],
   "source": [
    "import csv\n",
    "country_record = namedtuple('countryRecord',['country_name','country_code','country_iso_code'],verbose=False)\n",
    "country_tupple = map(country_record._make,csv.reader(open(\"country_codes.csv\",\"rb\")))\n",
    "for c in country_tupple[0:3]:\n",
    "    print c\n",
    "    print c.country_name,c.country_iso_code"
   ]
  },
  {
   "cell_type": "markdown",
   "metadata": {
    "collapsed": false
   },
   "source": [
    "### deque\n",
    "\n",
    "* <b>Returns a new deque object initialized left-to-right (using append()) with data from iterable.</b>\n",
    "* <b>If iterable is not specified, the new deque is empty.</b>\n",
    "* <b>Deques are a generalization of stacks and queues (the name is pronounced “deck” and is short for “double-ended queue”).</b>\n",
    "* <b>Deques support thread-safe, memory efficient appends and pops from either side of the deque</b>\n",
    "* <b>Deques may grow to an arbitrary length</b>\n",
    "\n",
    "|Method                |Description                            |\n",
    "|----------------------|---------------------------------------|\n",
    "|<b>append(x)</b>      |Add x to the right side of the deque.|\n",
    "|<b>appendLeft(x)</b>  |Add x to the left side of the deque.|\n",
    "|<b>clear()</b>        |Remove all elements from the deque leaving it with length 0.|\n",
    "|<b>count(x)</b>       |Count the number of deque elements equal to x.|\n",
    "|<b>extend(iterable)</b>|Extend the right side of the deque by appending elements from the iterable argument|\n",
    "|<b>extendleft(iterable)</b>|Extend the left side of the deque by appending elements from iterable. Note, the series of left appends results in reversing the order of elements in the iterable argument.|\n",
    "|<b>pop()</b>|Remove and return an element from the right side of the deque. If no elements are present, raises an IndexError.|\n",
    "|<b>popleft()</b>|Remove and return an element from the left side of the deque. If no elements are present, raises an IndexError.|\n",
    "|<b>remove(value)</b>|Removed the first occurrence of value. If not found, raises a ValueError.|\n",
    "|<b>reverse()</b>|Reverse the elements of the deque in-place and then return None.|\n",
    "|<b>rotate(n)</b>|Rotate the deque n steps to the right. If n is negative, rotate to the left. Rotating one step to the right is equivalent to: d.appendleft(d.pop()).|\n",
    "|<b>maxlen</b>|Maximum size of a deque or None if unbounded.|"
   ]
  },
  {
   "cell_type": "markdown",
   "metadata": {},
   "source": [
    "<b>Indexed access is O(1) at both ends but slows to O(n) in the middle. For fast random access, use lists instead.</b>\n",
    "\n",
    "<b>Adding to or removing from the beginning of a list is O(n), but fetching elements from the middle is O(1). For a deque, the reverse is true.</b>"
   ]
  },
  {
   "cell_type": "code",
   "execution_count": 7,
   "metadata": {
    "collapsed": true
   },
   "outputs": [],
   "source": [
    "# random access - go for list\n",
    "# accessing at the ends - go for deque"
   ]
  },
  {
   "cell_type": "code",
   "execution_count": 8,
   "metadata": {
    "collapsed": false
   },
   "outputs": [
    {
     "data": {
      "image/png": "[encoded data removed]",
      "text/plain": [
       "<IPython.core.display.Image object>"
      ]
     },
     "execution_count": 8,
     "metadata": {},
     "output_type": "execute_result"
    }
   ],
   "source": [
    "from IPython import display\n",
    "display.Image(\"basicdeque.png\")"
   ]
  },
  {
   "cell_type": "code",
   "execution_count": 9,
   "metadata": {
    "collapsed": false
   },
   "outputs": [],
   "source": [
    "from collections import deque"
   ]
  },
  {
   "cell_type": "code",
   "execution_count": 10,
   "metadata": {
    "collapsed": false
   },
   "outputs": [
    {
     "name": "stdout",
     "output_type": "stream",
     "text": [
      "<type 'collections.deque'>\n"
     ]
    }
   ],
   "source": [
    "numberList = range(1,100000)\n",
    "myque = deque(numberList)\n",
    "print type(myque)"
   ]
  },
  {
   "cell_type": "code",
   "execution_count": 11,
   "metadata": {
    "collapsed": false
   },
   "outputs": [],
   "source": [
    "def get_element(deque_object):\n",
    "    a = deque_object.pop()\n",
    "    deque_object.append(a)\n",
    "    return a"
   ]
  },
  {
   "cell_type": "code",
   "execution_count": 12,
   "metadata": {
    "collapsed": false
   },
   "outputs": [
    {
     "name": "stdout",
     "output_type": "stream",
     "text": [
      "99999\n",
      "99999\n"
     ]
    }
   ],
   "source": [
    "print get_element(myque)\n",
    "print len(myque)"
   ]
  },
  {
   "cell_type": "code",
   "execution_count": 13,
   "metadata": {
    "collapsed": false
   },
   "outputs": [
    {
     "name": "stdout",
     "output_type": "stream",
     "text": [
      "100002\n",
      "100002\n"
     ]
    }
   ],
   "source": [
    "newList = [100000,100001,100002]\n",
    "myque.extend(newList)\n",
    "print get_element(myque)\n",
    "print len(myque)"
   ]
  },
  {
   "cell_type": "code",
   "execution_count": 14,
   "metadata": {
    "collapsed": false
   },
   "outputs": [
    {
     "name": "stdout",
     "output_type": "stream",
     "text": [
      "100002\n"
     ]
    }
   ],
   "source": [
    "try :\n",
    "    value = 100001\n",
    "    myque.remove(value)\n",
    "except ValueError:\n",
    "    print \"Value \" + str(value) + \" not in myque\"\n",
    "print get_element(myque)"
   ]
  },
  {
   "cell_type": "code",
   "execution_count": 15,
   "metadata": {
    "collapsed": false
   },
   "outputs": [
    {
     "name": "stdout",
     "output_type": "stream",
     "text": [
      "Rectangle(width=50, height=50)\n"
     ]
    }
   ],
   "source": [
    "rect = [(10,10),(20,20),(30,30),(40,40),(50,50)]\n",
    "my_rect_deque = deque(map(Rectangle._make,rect))\n",
    "print get_element(my_rect_deque)"
   ]
  },
  {
   "cell_type": "code",
   "execution_count": 16,
   "metadata": {
    "collapsed": false
   },
   "outputs": [
    {
     "name": "stdout",
     "output_type": "stream",
     "text": [
      "Rectangle(width=50, height=50)\n",
      "Rectangle(width=40, height=40)\n",
      "Rectangle(width=30, height=30)\n",
      "Rectangle(width=20, height=20)\n",
      "Rectangle(width=10, height=10)\n"
     ]
    }
   ],
   "source": [
    "for a in range(len(my_rect_deque)):\n",
    "    x = my_rect_deque.pop()\n",
    "    print x\n",
    "    my_rect_deque.appendleft(x)"
   ]
  },
  {
   "cell_type": "code",
   "execution_count": 17,
   "metadata": {
    "collapsed": true
   },
   "outputs": [],
   "source": [
    "my_rect_deque.rotate(-2)"
   ]
  },
  {
   "cell_type": "code",
   "execution_count": 18,
   "metadata": {
    "collapsed": true
   },
   "outputs": [],
   "source": [
    "#import pandas as pd\n",
    "#import numpy as np\n",
    "#df = pd.read_html('https://countrycode.org/')[1]\n",
    "#df.to_csv('country_codes.csv',index=False,header=False)"
   ]
  },
  {
   "cell_type": "markdown",
   "metadata": {},
   "source": [
    "### Counter\n",
    "\n",
    "* <b>A Counter is a dict subclass for counting hashable objects. \n",
    "* It is an unordered collection where elements are stored as dictionary keys and their counts are stored as dictionary values. \n",
    "* Counts are allowed to be any integer value including zero or negative counts. \n",
    "* The Counter class is similar to bags or multisets in other languages.\n",
    "* Elements are counted from an iterable or initialized from another mapping (or counter):</b>\n",
    "\n",
    "#### Counter objects support three methods beyond those available for all dictionaries:\n",
    "\n",
    "|Method|Description|\n",
    "|------|-----------|\n",
    "|<b>elements()</b>|Return an iterator over elements repeating each as many times as its count.Elements are returned in arbitrary order.If an element’s count is less than one, elements() will ignore it.|\n",
    "|<b>most_common([n])></b>|Return a list of the n most common elements and their counts from the most common to the least.If n is omitted or None, most_common() returns all elements in the counter.Elements with equal counts are ordered arbitrarily:|\n",
    "|<b>subtract([iterable-or-mapping])</b>|Elements are subtracted from an iterable or from another mapping (or counter).Like dict.update() but subtracts counts instead of replacing them.Both inputs and outputs may be zero or negative.|"
   ]
  },
  {
   "cell_type": "code",
   "execution_count": 19,
   "metadata": {
    "collapsed": true
   },
   "outputs": [],
   "source": [
    "from collections import Counter"
   ]
  },
  {
   "cell_type": "code",
   "execution_count": 20,
   "metadata": {
    "collapsed": true
   },
   "outputs": [],
   "source": [
    "votes = ['bjp','congress','aap','bjp','bjp','bjp','congress','aap','bjp','bjp','jdal','bjp','congress','aap']"
   ]
  },
  {
   "cell_type": "code",
   "execution_count": 21,
   "metadata": {
    "collapsed": true
   },
   "outputs": [],
   "source": [
    "votes_counter = Counter(votes)"
   ]
  },
  {
   "cell_type": "code",
   "execution_count": 22,
   "metadata": {
    "collapsed": false
   },
   "outputs": [
    {
     "name": "stdout",
     "output_type": "stream",
     "text": [
      "Counter({'bjp': 7, 'aap': 3, 'congress': 3, 'jdal': 1})\n"
     ]
    }
   ],
   "source": [
    "print votes_counter"
   ]
  },
  {
   "cell_type": "code",
   "execution_count": 23,
   "metadata": {
    "collapsed": false
   },
   "outputs": [
    {
     "name": "stdout",
     "output_type": "stream",
     "text": [
      "['jdal', 'aap', 'aap', 'aap', 'congress', 'congress', 'congress', 'bjp', 'bjp', 'bjp', 'bjp', 'bjp', 'bjp', 'bjp']\n"
     ]
    }
   ],
   "source": [
    "print list(votes_counter.elements())"
   ]
  },
  {
   "cell_type": "code",
   "execution_count": 24,
   "metadata": {
    "collapsed": false
   },
   "outputs": [
    {
     "data": {
      "text/plain": [
       "[('bjp', 7), ('aap', 3), ('congress', 3)]"
      ]
     },
     "execution_count": 24,
     "metadata": {},
     "output_type": "execute_result"
    }
   ],
   "source": [
    "votes_counter.most_common(3)"
   ]
  },
  {
   "cell_type": "code",
   "execution_count": 25,
   "metadata": {
    "collapsed": true
   },
   "outputs": [],
   "source": [
    "invalid_votes = ['bjp','aap','congress','newparty']"
   ]
  },
  {
   "cell_type": "code",
   "execution_count": 26,
   "metadata": {
    "collapsed": false
   },
   "outputs": [
    {
     "name": "stdout",
     "output_type": "stream",
     "text": [
      "Counter({'bjp': 6, 'aap': 2, 'congress': 2, 'jdal': 1, 'newparty': -1})\n"
     ]
    }
   ],
   "source": [
    "total_votes = Counter(votes)\n",
    "total_votes.subtract(invalid_votes)\n",
    "print total_votes"
   ]
  },
  {
   "cell_type": "code",
   "execution_count": 27,
   "metadata": {
    "collapsed": false
   },
   "outputs": [
    {
     "name": "stdout",
     "output_type": "stream",
     "text": [
      "Counter({'bjp': 7, 'aap': 3, 'congress': 2, 'jdal': 1, 'others': 1, 'newparty': -1})\n"
     ]
    }
   ],
   "source": [
    "total_votes.update(['aap','bjp','others'])\n",
    "print total_votes"
   ]
  },
  {
   "cell_type": "markdown",
   "metadata": {},
   "source": [
    "### OrderedDict\n",
    "\n",
    "* <b>Return an instance of a dict subclass, supporting the usual dict methods.\n",
    "* An OrderedDict is a dict that remembers the order that keys were first inserted.\n",
    "* If a new entry overwrites an existing entry, the original insertion position is left unchanged.\n",
    "* Deleting an entry and reinserting it will move it to the end.</b>\n",
    "\n"
   ]
  },
  {
   "cell_type": "code",
   "execution_count": 28,
   "metadata": {
    "collapsed": true
   },
   "outputs": [],
   "source": [
    "from collections import OrderedDict"
   ]
  },
  {
   "cell_type": "code",
   "execution_count": 29,
   "metadata": {
    "collapsed": true
   },
   "outputs": [],
   "source": [
    "new_ordered_dict = OrderedDict()"
   ]
  },
  {
   "cell_type": "code",
   "execution_count": 30,
   "metadata": {
    "collapsed": true
   },
   "outputs": [],
   "source": [
    "new_ordered_dict.update({'Root':47})"
   ]
  },
  {
   "cell_type": "code",
   "execution_count": 31,
   "metadata": {
    "collapsed": true
   },
   "outputs": [],
   "source": [
    "new_ordered_dict.update({'Parent1':40})"
   ]
  },
  {
   "cell_type": "code",
   "execution_count": 32,
   "metadata": {
    "collapsed": true
   },
   "outputs": [],
   "source": [
    "new_ordered_dict.update({'Parent2':38})"
   ]
  },
  {
   "cell_type": "code",
   "execution_count": 33,
   "metadata": {
    "collapsed": false
   },
   "outputs": [
    {
     "data": {
      "text/plain": [
       "OrderedDict([('Root', 47), ('Parent1', 40), ('Parent2', 38)])"
      ]
     },
     "execution_count": 33,
     "metadata": {},
     "output_type": "execute_result"
    }
   ],
   "source": [
    "new_ordered_dict"
   ]
  },
  {
   "cell_type": "code",
   "execution_count": 34,
   "metadata": {
    "collapsed": false
   },
   "outputs": [],
   "source": [
    "xx = OrderedDict([('a',10),('b',20),('c',40)])\n",
    "Person = namedtuple('Person',['name','age'],verbose=False)"
   ]
  },
  {
   "cell_type": "code",
   "execution_count": 35,
   "metadata": {
    "collapsed": false
   },
   "outputs": [],
   "source": [
    "persons = map(Person._make,[('jonh',25),('mary',16),('david',20),('karmen',5)])"
   ]
  },
  {
   "cell_type": "code",
   "execution_count": 36,
   "metadata": {
    "collapsed": false
   },
   "outputs": [],
   "source": [
    "persons_od = OrderedDict(sorted(persons,key=lambda x:x.age))"
   ]
  },
  {
   "cell_type": "code",
   "execution_count": 37,
   "metadata": {
    "collapsed": false
   },
   "outputs": [
    {
     "name": "stdout",
     "output_type": "stream",
     "text": [
      "OrderedDict([('karmen', 5), ('mary', 16), ('david', 20), ('jonh', 25), ('Tiger', 60)])\n"
     ]
    }
   ],
   "source": [
    "persons_od.update({'Tiger':60})\n",
    "print persons_od"
   ]
  },
  {
   "cell_type": "code",
   "execution_count": 38,
   "metadata": {
    "collapsed": false
   },
   "outputs": [
    {
     "name": "stdout",
     "output_type": "stream",
     "text": [
      "OrderedDict([('mary', 16), ('david', 20), ('jonh', 25), ('Tiger', 60)])\n"
     ]
    }
   ],
   "source": [
    "persons_od.pop('karmen')\n",
    "print persons_od"
   ]
  },
  {
   "cell_type": "code",
   "execution_count": 39,
   "metadata": {
    "collapsed": false
   },
   "outputs": [
    {
     "name": "stdout",
     "output_type": "stream",
     "text": [
      "('Tiger', 60)\n"
     ]
    }
   ],
   "source": [
    "print persons_od.popitem()"
   ]
  },
  {
   "cell_type": "code",
   "execution_count": 40,
   "metadata": {
    "collapsed": false
   },
   "outputs": [
    {
     "name": "stdout",
     "output_type": "stream",
     "text": [
      "('mary', 16)\n"
     ]
    }
   ],
   "source": [
    "print persons_od.popitem(last=False)"
   ]
  },
  {
   "cell_type": "code",
   "execution_count": 41,
   "metadata": {
    "collapsed": false
   },
   "outputs": [
    {
     "name": "stdout",
     "output_type": "stream",
     "text": [
      "jonh\n",
      "david\n"
     ]
    }
   ],
   "source": [
    "for x in reversed(persons_od):\n",
    "    print x"
   ]
  },
  {
   "cell_type": "markdown",
   "metadata": {},
   "source": [
    "### defaultdict\n",
    "\n",
    "* <b>Returns a new dictionary-like object. \n",
    "* defaultdict is a subclass of the built-in dict class. \n",
    "* It overrides one method and adds one writable instance variable. \n",
    "* The remaining functionality is the same as for the dict class.\n",
    "* The first argument provides the initial value for the default_factory attribute; it defaults to None.\n",
    "* All remaining arguments are treated the same as if they were passed to the dict constructor, including keyword arguments.</b>"
   ]
  },
  {
   "cell_type": "code",
   "execution_count": 42,
   "metadata": {
    "collapsed": true
   },
   "outputs": [],
   "source": [
    "from collections import defaultdict"
   ]
  },
  {
   "cell_type": "code",
   "execution_count": 43,
   "metadata": {
    "collapsed": false
   },
   "outputs": [
    {
     "name": "stdout",
     "output_type": "stream",
     "text": [
      "defaultdict(<type 'list'>, {'aap': ['Kejariwal', 'Manish'], 'congress': ['Sonia', 'Rahul'], 'bjp': ['Modi', 'Rajnath']})\n"
     ]
    }
   ],
   "source": [
    "my_list = [('bjp','Modi'),('aap','Kejariwal'),('bjp','Rajnath'),('congress','Sonia'),('congress','Rahul'),('aap','Manish')]\n",
    "my_def_dict = defaultdict(list)\n",
    "for k,v in my_list:\n",
    "    my_def_dict[k].append(v)\n",
    "print my_def_dict"
   ]
  },
  {
   "cell_type": "code",
   "execution_count": 44,
   "metadata": {
    "collapsed": false
   },
   "outputs": [
    {
     "name": "stdout",
     "output_type": "stream",
     "text": [
      "['Modi', 'Rajnath']\n"
     ]
    }
   ],
   "source": [
    "bjp_party_people = my_def_dict.get('bjp')\n",
    "print bjp_party_people"
   ]
  },
  {
   "cell_type": "code",
   "execution_count": 45,
   "metadata": {
    "collapsed": false
   },
   "outputs": [],
   "source": [
    "ramayan_characters = defaultdict(Person)"
   ]
  },
  {
   "cell_type": "code",
   "execution_count": 46,
   "metadata": {
    "collapsed": false
   },
   "outputs": [
    {
     "name": "stdout",
     "output_type": "stream",
     "text": [
      "defaultdict(<class '__main__.Person'>, {'Sita': Person(name='Sita', age=28), 'Ram': Person(name='Ram', age=35), 'Lakshman': Person(name='Lakshman', age=30)})\n"
     ]
    }
   ],
   "source": [
    "ramayan_characters['Ram'] = Person('Ram',35)\n",
    "ramayan_characters['Lakshman'] = Person('Lakshman',30)\n",
    "ramayan_characters['Sita'] = Person('Sita',28)\n",
    "print ramayan_characters"
   ]
  },
  {
   "cell_type": "code",
   "execution_count": 47,
   "metadata": {
    "collapsed": false
   },
   "outputs": [
    {
     "name": "stdout",
     "output_type": "stream",
     "text": [
      "Person(name='Lakshman', age=29)\n"
     ]
    }
   ],
   "source": [
    "ramayan_characters['Lakshman'] = ramayan_characters['Lakshman']._replace(age=29)\n",
    "print ramayan_characters['Lakshman']"
   ]
  },
  {
   "cell_type": "code",
   "execution_count": null,
   "metadata": {
    "collapsed": true
   },
   "outputs": [],
   "source": []
  }
 ],
 "metadata": {
  "kernelspec": {
   "display_name": "Python 2",
   "language": "python",
   "name": "python2"
  },
  "language_info": {
   "codemirror_mode": {
    "name": "ipython",
    "version": 2
   },
   "file_extension": ".py",
   "mimetype": "text/x-python",
   "name": "python",
   "nbconvert_exporter": "python",
   "pygments_lexer": "ipython2",
   "version": "2.7.11"
  }
 },
 "nbformat": 4,
 "nbformat_minor": 0
}
